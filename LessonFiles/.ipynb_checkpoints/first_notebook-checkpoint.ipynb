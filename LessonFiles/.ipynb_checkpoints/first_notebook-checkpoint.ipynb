{
 "cells": [
  {
   "cell_type": "code",
   "execution_count": 3,
   "metadata": {},
   "outputs": [
    {
     "name": "stdout",
     "output_type": "stream",
     "text": [
      "HI World Changed!\n"
     ]
    }
   ],
   "source": [
    "print(\"HI World Changed!\")"
   ]
  },
  {
   "cell_type": "markdown",
   "metadata": {},
   "source": [
    "# Hello this is a title "
   ]
  },
  {
   "cell_type": "code",
   "execution_count": 4,
   "metadata": {},
   "outputs": [
    {
     "name": "stdout",
     "output_type": "stream",
     "text": [
      "Python 3.8.3\n"
     ]
    }
   ],
   "source": [
    "!python -V"
   ]
  },
  {
   "cell_type": "code",
   "execution_count": 5,
   "metadata": {},
   "outputs": [
    {
     "name": "stdout",
     "output_type": "stream",
     "text": [
      "Collecting jupyterThemes\n",
      "  Downloading jupyterthemes-0.20.0-py2.py3-none-any.whl (7.0 MB)\n",
      "Requirement already satisfied: matplotlib>=1.4.3 in c:\\users\\pgold\\anaconda3\\lib\\site-packages (from jupyterThemes) (3.2.2)\n",
      "Requirement already satisfied: ipython>=5.4.1 in c:\\users\\pgold\\anaconda3\\lib\\site-packages (from jupyterThemes) (7.16.1)\n",
      "Collecting lesscpy>=0.11.2\n",
      "  Downloading lesscpy-0.14.0-py2.py3-none-any.whl (46 kB)\n",
      "Requirement already satisfied: jupyter-core in c:\\users\\pgold\\anaconda3\\lib\\site-packages (from jupyterThemes) (4.6.3)\n",
      "Requirement already satisfied: notebook>=5.6.0 in c:\\users\\pgold\\anaconda3\\lib\\site-packages (from jupyterThemes) (6.0.3)\n",
      "Requirement already satisfied: kiwisolver>=1.0.1 in c:\\users\\pgold\\anaconda3\\lib\\site-packages (from matplotlib>=1.4.3->jupyterThemes) (1.2.0)\n",
      "Requirement already satisfied: cycler>=0.10 in c:\\users\\pgold\\anaconda3\\lib\\site-packages (from matplotlib>=1.4.3->jupyterThemes) (0.10.0)\n",
      "Requirement already satisfied: pyparsing!=2.0.4,!=2.1.2,!=2.1.6,>=2.0.1 in c:\\users\\pgold\\anaconda3\\lib\\site-packages (from matplotlib>=1.4.3->jupyterThemes) (2.4.7)\n",
      "Requirement already satisfied: numpy>=1.11 in c:\\users\\pgold\\anaconda3\\lib\\site-packages (from matplotlib>=1.4.3->jupyterThemes) (1.18.5)\n",
      "Requirement already satisfied: python-dateutil>=2.1 in c:\\users\\pgold\\anaconda3\\lib\\site-packages (from matplotlib>=1.4.3->jupyterThemes) (2.8.1)\n",
      "Requirement already satisfied: decorator in c:\\users\\pgold\\anaconda3\\lib\\site-packages (from ipython>=5.4.1->jupyterThemes) (4.4.2)\n",
      "Requirement already satisfied: pickleshare in c:\\users\\pgold\\anaconda3\\lib\\site-packages (from ipython>=5.4.1->jupyterThemes) (0.7.5)\n",
      "Requirement already satisfied: traitlets>=4.2 in c:\\users\\pgold\\anaconda3\\lib\\site-packages (from ipython>=5.4.1->jupyterThemes) (4.3.3)\n",
      "Requirement already satisfied: setuptools>=18.5 in c:\\users\\pgold\\anaconda3\\lib\\site-packages (from ipython>=5.4.1->jupyterThemes) (49.2.0.post20200714)\n",
      "Requirement already satisfied: prompt-toolkit!=3.0.0,!=3.0.1,<3.1.0,>=2.0.0 in c:\\users\\pgold\\anaconda3\\lib\\site-packages (from ipython>=5.4.1->jupyterThemes) (3.0.5)\n",
      "Requirement already satisfied: colorama; sys_platform == \"win32\" in c:\\users\\pgold\\anaconda3\\lib\\site-packages (from ipython>=5.4.1->jupyterThemes) (0.4.3)\n",
      "Requirement already satisfied: jedi>=0.10 in c:\\users\\pgold\\anaconda3\\lib\\site-packages (from ipython>=5.4.1->jupyterThemes) (0.17.1)\n",
      "Requirement already satisfied: pygments in c:\\users\\pgold\\anaconda3\\lib\\site-packages (from ipython>=5.4.1->jupyterThemes) (2.6.1)\n",
      "Requirement already satisfied: backcall in c:\\users\\pgold\\anaconda3\\lib\\site-packages (from ipython>=5.4.1->jupyterThemes) (0.2.0)\n",
      "Requirement already satisfied: ply in c:\\users\\pgold\\anaconda3\\lib\\site-packages (from lesscpy>=0.11.2->jupyterThemes) (3.11)\n",
      "Requirement already satisfied: six in c:\\users\\pgold\\anaconda3\\lib\\site-packages (from lesscpy>=0.11.2->jupyterThemes) (1.15.0)\n",
      "Requirement already satisfied: pywin32>=1.0; sys_platform == \"win32\" in c:\\users\\pgold\\anaconda3\\lib\\site-packages (from jupyter-core->jupyterThemes) (227)\n",
      "Requirement already satisfied: Send2Trash in c:\\users\\pgold\\anaconda3\\lib\\site-packages (from notebook>=5.6.0->jupyterThemes) (1.5.0)\n",
      "Requirement already satisfied: pyzmq>=17 in c:\\users\\pgold\\anaconda3\\lib\\site-packages (from notebook>=5.6.0->jupyterThemes) (19.0.1)\n",
      "Requirement already satisfied: tornado>=5.0 in c:\\users\\pgold\\anaconda3\\lib\\site-packages (from notebook>=5.6.0->jupyterThemes) (6.0.4)\n",
      "Requirement already satisfied: jinja2 in c:\\users\\pgold\\anaconda3\\lib\\site-packages (from notebook>=5.6.0->jupyterThemes) (2.11.2)\n",
      "Requirement already satisfied: ipython-genutils in c:\\users\\pgold\\anaconda3\\lib\\site-packages (from notebook>=5.6.0->jupyterThemes) (0.2.0)\n",
      "Requirement already satisfied: jupyter-client>=5.3.4 in c:\\users\\pgold\\anaconda3\\lib\\site-packages (from notebook>=5.6.0->jupyterThemes) (6.1.6)\n",
      "Requirement already satisfied: ipykernel in c:\\users\\pgold\\anaconda3\\lib\\site-packages (from notebook>=5.6.0->jupyterThemes) (5.3.2)\n",
      "Requirement already satisfied: nbformat in c:\\users\\pgold\\anaconda3\\lib\\site-packages (from notebook>=5.6.0->jupyterThemes) (5.0.7)\n",
      "Requirement already satisfied: prometheus-client in c:\\users\\pgold\\anaconda3\\lib\\site-packages (from notebook>=5.6.0->jupyterThemes) (0.8.0)\n",
      "Requirement already satisfied: terminado>=0.8.1 in c:\\users\\pgold\\anaconda3\\lib\\site-packages (from notebook>=5.6.0->jupyterThemes) (0.8.3)\n",
      "Requirement already satisfied: nbconvert in c:\\users\\pgold\\anaconda3\\lib\\site-packages (from notebook>=5.6.0->jupyterThemes) (5.6.1)\n",
      "Requirement already satisfied: wcwidth in c:\\users\\pgold\\anaconda3\\lib\\site-packages (from prompt-toolkit!=3.0.0,!=3.0.1,<3.1.0,>=2.0.0->ipython>=5.4.1->jupyterThemes) (0.2.5)\n",
      "Requirement already satisfied: parso<0.8.0,>=0.7.0 in c:\\users\\pgold\\anaconda3\\lib\\site-packages (from jedi>=0.10->ipython>=5.4.1->jupyterThemes) (0.7.0)\n",
      "Requirement already satisfied: MarkupSafe>=0.23 in c:\\users\\pgold\\anaconda3\\lib\\site-packages (from jinja2->notebook>=5.6.0->jupyterThemes) (1.1.1)\n",
      "Requirement already satisfied: jsonschema!=2.5.0,>=2.4 in c:\\users\\pgold\\anaconda3\\lib\\site-packages (from nbformat->notebook>=5.6.0->jupyterThemes) (3.2.0)\n",
      "Requirement already satisfied: mistune<2,>=0.8.1 in c:\\users\\pgold\\anaconda3\\lib\\site-packages (from nbconvert->notebook>=5.6.0->jupyterThemes) (0.8.4)\n",
      "Requirement already satisfied: bleach in c:\\users\\pgold\\anaconda3\\lib\\site-packages (from nbconvert->notebook>=5.6.0->jupyterThemes) (3.1.5)\n",
      "Requirement already satisfied: entrypoints>=0.2.2 in c:\\users\\pgold\\anaconda3\\lib\\site-packages (from nbconvert->notebook>=5.6.0->jupyterThemes) (0.3)\n",
      "Requirement already satisfied: testpath in c:\\users\\pgold\\anaconda3\\lib\\site-packages (from nbconvert->notebook>=5.6.0->jupyterThemes) (0.4.4)\n",
      "Requirement already satisfied: defusedxml in c:\\users\\pgold\\anaconda3\\lib\\site-packages (from nbconvert->notebook>=5.6.0->jupyterThemes) (0.6.0)\n",
      "Requirement already satisfied: pandocfilters>=1.4.1 in c:\\users\\pgold\\anaconda3\\lib\\site-packages (from nbconvert->notebook>=5.6.0->jupyterThemes) (1.4.2)\n",
      "Requirement already satisfied: attrs>=17.4.0 in c:\\users\\pgold\\anaconda3\\lib\\site-packages (from jsonschema!=2.5.0,>=2.4->nbformat->notebook>=5.6.0->jupyterThemes) (19.3.0)\n",
      "Requirement already satisfied: pyrsistent>=0.14.0 in c:\\users\\pgold\\anaconda3\\lib\\site-packages (from jsonschema!=2.5.0,>=2.4->nbformat->notebook>=5.6.0->jupyterThemes) (0.16.0)\n",
      "Requirement already satisfied: packaging in c:\\users\\pgold\\anaconda3\\lib\\site-packages (from bleach->nbconvert->notebook>=5.6.0->jupyterThemes) (20.4)\n",
      "Requirement already satisfied: webencodings in c:\\users\\pgold\\anaconda3\\lib\\site-packages (from bleach->nbconvert->notebook>=5.6.0->jupyterThemes) (0.5.1)\n",
      "Installing collected packages: lesscpy, jupyterThemes\n",
      "Successfully installed jupyterThemes-0.20.0 lesscpy-0.14.0\n"
     ]
    }
   ],
   "source": [
    "!pip install jupyterThemes"
   ]
  },
  {
   "cell_type": "code",
   "execution_count": 6,
   "metadata": {},
   "outputs": [
    {
     "name": "stdout",
     "output_type": "stream",
     "text": [
      "Requirement already satisfied: jupyterThemes in c:\\users\\pgold\\anaconda3\\lib\\site-packages (0.20.0)\n",
      "Requirement already satisfied: matplotlib>=1.4.3 in c:\\users\\pgold\\anaconda3\\lib\\site-packages (from jupyterThemes) (3.2.2)\n",
      "Requirement already satisfied: ipython>=5.4.1 in c:\\users\\pgold\\anaconda3\\lib\\site-packages (from jupyterThemes) (7.16.1)\n",
      "Requirement already satisfied: jupyter-core in c:\\users\\pgold\\anaconda3\\lib\\site-packages (from jupyterThemes) (4.6.3)\n",
      "Requirement already satisfied: notebook>=5.6.0 in c:\\users\\pgold\\anaconda3\\lib\\site-packages (from jupyterThemes) (6.0.3)\n",
      "Requirement already satisfied: lesscpy>=0.11.2 in c:\\users\\pgold\\anaconda3\\lib\\site-packages (from jupyterThemes) (0.14.0)\n",
      "Requirement already satisfied: python-dateutil>=2.1 in c:\\users\\pgold\\anaconda3\\lib\\site-packages (from matplotlib>=1.4.3->jupyterThemes) (2.8.1)\n",
      "Requirement already satisfied: kiwisolver>=1.0.1 in c:\\users\\pgold\\anaconda3\\lib\\site-packages (from matplotlib>=1.4.3->jupyterThemes) (1.2.0)\n",
      "Requirement already satisfied: cycler>=0.10 in c:\\users\\pgold\\anaconda3\\lib\\site-packages (from matplotlib>=1.4.3->jupyterThemes) (0.10.0)\n",
      "Requirement already satisfied: pyparsing!=2.0.4,!=2.1.2,!=2.1.6,>=2.0.1 in c:\\users\\pgold\\anaconda3\\lib\\site-packages (from matplotlib>=1.4.3->jupyterThemes) (2.4.7)\n",
      "Requirement already satisfied: numpy>=1.11 in c:\\users\\pgold\\anaconda3\\lib\\site-packages (from matplotlib>=1.4.3->jupyterThemes) (1.18.5)\n",
      "Requirement already satisfied: decorator in c:\\users\\pgold\\anaconda3\\lib\\site-packages (from ipython>=5.4.1->jupyterThemes) (4.4.2)\n",
      "Requirement already satisfied: setuptools>=18.5 in c:\\users\\pgold\\anaconda3\\lib\\site-packages (from ipython>=5.4.1->jupyterThemes) (49.2.0.post20200714)\n",
      "Requirement already satisfied: jedi>=0.10 in c:\\users\\pgold\\anaconda3\\lib\\site-packages (from ipython>=5.4.1->jupyterThemes) (0.17.1)\n",
      "Requirement already satisfied: traitlets>=4.2 in c:\\users\\pgold\\anaconda3\\lib\\site-packages (from ipython>=5.4.1->jupyterThemes) (4.3.3)\n",
      "Requirement already satisfied: colorama; sys_platform == \"win32\" in c:\\users\\pgold\\anaconda3\\lib\\site-packages (from ipython>=5.4.1->jupyterThemes) (0.4.3)\n",
      "Requirement already satisfied: backcall in c:\\users\\pgold\\anaconda3\\lib\\site-packages (from ipython>=5.4.1->jupyterThemes) (0.2.0)\n",
      "Requirement already satisfied: pickleshare in c:\\users\\pgold\\anaconda3\\lib\\site-packages (from ipython>=5.4.1->jupyterThemes) (0.7.5)\n",
      "Requirement already satisfied: prompt-toolkit!=3.0.0,!=3.0.1,<3.1.0,>=2.0.0 in c:\\users\\pgold\\anaconda3\\lib\\site-packages (from ipython>=5.4.1->jupyterThemes) (3.0.5)\n",
      "Requirement already satisfied: pygments in c:\\users\\pgold\\anaconda3\\lib\\site-packages (from ipython>=5.4.1->jupyterThemes) (2.6.1)\n",
      "Requirement already satisfied: pywin32>=1.0; sys_platform == \"win32\" in c:\\users\\pgold\\anaconda3\\lib\\site-packages (from jupyter-core->jupyterThemes) (227)\n",
      "Requirement already satisfied: jinja2 in c:\\users\\pgold\\anaconda3\\lib\\site-packages (from notebook>=5.6.0->jupyterThemes) (2.11.2)\n",
      "Requirement already satisfied: tornado>=5.0 in c:\\users\\pgold\\anaconda3\\lib\\site-packages (from notebook>=5.6.0->jupyterThemes) (6.0.4)\n",
      "Requirement already satisfied: nbconvert in c:\\users\\pgold\\anaconda3\\lib\\site-packages (from notebook>=5.6.0->jupyterThemes) (5.6.1)\n",
      "Requirement already satisfied: Send2Trash in c:\\users\\pgold\\anaconda3\\lib\\site-packages (from notebook>=5.6.0->jupyterThemes) (1.5.0)\n",
      "Requirement already satisfied: jupyter-client>=5.3.4 in c:\\users\\pgold\\anaconda3\\lib\\site-packages (from notebook>=5.6.0->jupyterThemes) (6.1.6)\n",
      "Requirement already satisfied: prometheus-client in c:\\users\\pgold\\anaconda3\\lib\\site-packages (from notebook>=5.6.0->jupyterThemes) (0.8.0)\n",
      "Requirement already satisfied: nbformat in c:\\users\\pgold\\anaconda3\\lib\\site-packages (from notebook>=5.6.0->jupyterThemes) (5.0.7)\n",
      "Requirement already satisfied: ipython-genutils in c:\\users\\pgold\\anaconda3\\lib\\site-packages (from notebook>=5.6.0->jupyterThemes) (0.2.0)\n",
      "Requirement already satisfied: ipykernel in c:\\users\\pgold\\anaconda3\\lib\\site-packages (from notebook>=5.6.0->jupyterThemes) (5.3.2)\n",
      "Requirement already satisfied: pyzmq>=17 in c:\\users\\pgold\\anaconda3\\lib\\site-packages (from notebook>=5.6.0->jupyterThemes) (19.0.1)\n",
      "Requirement already satisfied: terminado>=0.8.1 in c:\\users\\pgold\\anaconda3\\lib\\site-packages (from notebook>=5.6.0->jupyterThemes) (0.8.3)\n",
      "Requirement already satisfied: ply in c:\\users\\pgold\\anaconda3\\lib\\site-packages (from lesscpy>=0.11.2->jupyterThemes) (3.11)\n",
      "Requirement already satisfied: six in c:\\users\\pgold\\anaconda3\\lib\\site-packages (from lesscpy>=0.11.2->jupyterThemes) (1.15.0)\n",
      "Requirement already satisfied: parso<0.8.0,>=0.7.0 in c:\\users\\pgold\\anaconda3\\lib\\site-packages (from jedi>=0.10->ipython>=5.4.1->jupyterThemes) (0.7.0)\n",
      "Requirement already satisfied: wcwidth in c:\\users\\pgold\\anaconda3\\lib\\site-packages (from prompt-toolkit!=3.0.0,!=3.0.1,<3.1.0,>=2.0.0->ipython>=5.4.1->jupyterThemes) (0.2.5)\n",
      "Requirement already satisfied: MarkupSafe>=0.23 in c:\\users\\pgold\\anaconda3\\lib\\site-packages (from jinja2->notebook>=5.6.0->jupyterThemes) (1.1.1)\n",
      "Requirement already satisfied: testpath in c:\\users\\pgold\\anaconda3\\lib\\site-packages (from nbconvert->notebook>=5.6.0->jupyterThemes) (0.4.4)\n",
      "Requirement already satisfied: defusedxml in c:\\users\\pgold\\anaconda3\\lib\\site-packages (from nbconvert->notebook>=5.6.0->jupyterThemes) (0.6.0)\n",
      "Requirement already satisfied: pandocfilters>=1.4.1 in c:\\users\\pgold\\anaconda3\\lib\\site-packages (from nbconvert->notebook>=5.6.0->jupyterThemes) (1.4.2)\n",
      "Requirement already satisfied: entrypoints>=0.2.2 in c:\\users\\pgold\\anaconda3\\lib\\site-packages (from nbconvert->notebook>=5.6.0->jupyterThemes) (0.3)\n",
      "Requirement already satisfied: mistune<2,>=0.8.1 in c:\\users\\pgold\\anaconda3\\lib\\site-packages (from nbconvert->notebook>=5.6.0->jupyterThemes) (0.8.4)\n",
      "Requirement already satisfied: bleach in c:\\users\\pgold\\anaconda3\\lib\\site-packages (from nbconvert->notebook>=5.6.0->jupyterThemes) (3.1.5)\n",
      "Requirement already satisfied: jsonschema!=2.5.0,>=2.4 in c:\\users\\pgold\\anaconda3\\lib\\site-packages (from nbformat->notebook>=5.6.0->jupyterThemes) (3.2.0)\n",
      "Requirement already satisfied: webencodings in c:\\users\\pgold\\anaconda3\\lib\\site-packages (from bleach->nbconvert->notebook>=5.6.0->jupyterThemes) (0.5.1)\n",
      "Requirement already satisfied: packaging in c:\\users\\pgold\\anaconda3\\lib\\site-packages (from bleach->nbconvert->notebook>=5.6.0->jupyterThemes) (20.4)\n",
      "Requirement already satisfied: attrs>=17.4.0 in c:\\users\\pgold\\anaconda3\\lib\\site-packages (from jsonschema!=2.5.0,>=2.4->nbformat->notebook>=5.6.0->jupyterThemes) (19.3.0)\n",
      "Requirement already satisfied: pyrsistent>=0.14.0 in c:\\users\\pgold\\anaconda3\\lib\\site-packages (from jsonschema!=2.5.0,>=2.4->nbformat->notebook>=5.6.0->jupyterThemes) (0.16.0)\n"
     ]
    }
   ],
   "source": [
    "!pip install jupyterThemes"
   ]
  },
  {
   "cell_type": "code",
   "execution_count": 11,
   "metadata": {},
   "outputs": [
    {
     "name": "stdout",
     "output_type": "stream",
     "text": [
      "Didn't recognize theme name: traitlets\n",
      "Available Themes: \n",
      "   chesterish\n",
      "   grade3\n",
      "   gruvboxd\n",
      "   gruvboxl\n",
      "   monokai\n",
      "   oceans16\n",
      "   onedork\n",
      "   solarizedd\n",
      "   solarizedl\n"
     ]
    }
   ],
   "source": [
    "!jt -t traitlets"
   ]
  },
  {
   "cell_type": "code",
   "execution_count": 8,
   "metadata": {},
   "outputs": [
    {
     "name": "stdout",
     "output_type": "stream",
     "text": [
      "Didn't recognize theme name: oneDark\n",
      "Available Themes: \n",
      "   chesterish\n",
      "   grade3\n",
      "   gruvboxd\n",
      "   gruvboxl\n",
      "   monokai\n",
      "   oceans16\n",
      "   onedork\n",
      "   solarizedd\n",
      "   solarizedl\n"
     ]
    }
   ],
   "source": []
  },
  {
   "cell_type": "code",
   "execution_count": 9,
   "metadata": {},
   "outputs": [],
   "source": []
  },
  {
   "cell_type": "code",
   "execution_count": 10,
   "metadata": {},
   "outputs": [],
   "source": []
  },
  {
   "cell_type": "code",
   "execution_count": null,
   "metadata": {},
   "outputs": [],
   "source": []
  }
 ],
 "metadata": {
  "kernelspec": {
   "display_name": "Python 3",
   "language": "python",
   "name": "python3"
  },
  "language_info": {
   "codemirror_mode": {
    "name": "ipython",
    "version": 3
   },
   "file_extension": ".py",
   "mimetype": "text/x-python",
   "name": "python",
   "nbconvert_exporter": "python",
   "pygments_lexer": "ipython3",
   "version": "3.8.5"
  }
 },
 "nbformat": 4,
 "nbformat_minor": 4
}
